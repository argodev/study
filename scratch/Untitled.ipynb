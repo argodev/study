{
 "cells": [
  {
   "cell_type": "code",
   "execution_count": 1,
   "metadata": {},
   "outputs": [],
   "source": [
    "numchars = 8\n",
    "numalpha = 26\n",
    "numdigits = 10\n"
   ]
  },
  {
   "cell_type": "code",
   "execution_count": 10,
   "metadata": {},
   "outputs": [
    {
     "data": {
      "text/plain": [
       "2821109907456"
      ]
     },
     "execution_count": 10,
     "metadata": {},
     "output_type": "execute_result"
    }
   ],
   "source": [
    "depth = numalpha + numdigits\n",
    "depth**8"
   ]
  },
  {
   "cell_type": "code",
   "execution_count": 5,
   "metadata": {},
   "outputs": [
    {
     "data": {
      "text/plain": [
       "1296"
      ]
     },
     "execution_count": 5,
     "metadata": {},
     "output_type": "execute_result"
    }
   ],
   "source": [
    "36*36"
   ]
  },
  {
   "cell_type": "code",
   "execution_count": 12,
   "metadata": {},
   "outputs": [
    {
     "data": {
      "text/plain": [
       "36"
      ]
     },
     "execution_count": 12,
     "metadata": {},
     "output_type": "execute_result"
    }
   ],
   "source": [
    "36**1"
   ]
  },
  {
   "cell_type": "code",
   "execution_count": 64,
   "metadata": {},
   "outputs": [],
   "source": [
    "# HT: https://stackoverflow.com/questions/4048651/python-function-to-convert-seconds-into-minutes-hours-and-days\n",
    "intervals = (\n",
    "    ('weeks', 604800),  # 60 * 60 * 24 * 7\n",
    "    ('days', 86400),    # 60 * 60 * 24\n",
    "    ('hours', 3600),    # 60 * 60\n",
    "    ('minutes', 60),\n",
    "    ('seconds', 1),\n",
    ")\n",
    "\n",
    "def display_time(seconds, granularity=2):\n",
    "    result = []\n",
    "\n",
    "    for name, count in intervals:\n",
    "        value = seconds // count\n",
    "        if value:\n",
    "            seconds -= value * count\n",
    "            if value == 1:\n",
    "                name = name.rstrip('s')\n",
    "            result.append(\"{} {}\".format(value, name))\n",
    "    return ', '.join(result[:granularity])"
   ]
  },
  {
   "cell_type": "code",
   "execution_count": 44,
   "metadata": {},
   "outputs": [],
   "source": [
    "def grc(depth, pwlen):\n",
    "    if pwlen < 1:\n",
    "        return 0\n",
    "    if pwlen == 1:\n",
    "        return depth**pwlen\n",
    "    return (depth**pwlen-1) + grc(depth, pwlen-1)\n"
   ]
  },
  {
   "cell_type": "code",
   "execution_count": 69,
   "metadata": {},
   "outputs": [],
   "source": [
    "def estimate_time(search):\n",
    "    estimate = search / 581500\n",
    "    return estimate"
   ]
  },
  {
   "cell_type": "code",
   "execution_count": 16,
   "metadata": {},
   "outputs": [
    {
     "data": {
      "text/plain": [
       "2901713047661"
      ]
     },
     "execution_count": 16,
     "metadata": {},
     "output_type": "execute_result"
    }
   ],
   "source": [
    "grc(36, 8)"
   ]
  },
  {
   "cell_type": "code",
   "execution_count": 70,
   "metadata": {},
   "outputs": [
    {
     "name": "stdout",
     "output_type": "stream",
     "text": [
      "2.90e+12\n",
      "Search Space 2.90e+12\n"
     ]
    },
    {
     "data": {
      "text/plain": [
       "'8.0 weeks, 1.0 day'"
      ]
     },
     "execution_count": 70,
     "metadata": {},
     "output_type": "execute_result"
    }
   ],
   "source": [
    "# This is the general / worst-case pattern\n",
    "x = 36**8-1 + 36**7-1 + 36**6-1 + 36**5-1 + 36**4-1 + 36**3-1 + 36**2-1 + 36**1\n",
    "print(\"Search Space {:.2e}\".format(x))\n",
    "display_time(estimate_time(x))"
   ]
  },
  {
   "cell_type": "code",
   "execution_count": 71,
   "metadata": {},
   "outputs": [
    {
     "name": "stdout",
     "output_type": "stream",
     "text": [
      "Search Space 2.09e+11\n"
     ]
    },
    {
     "data": {
      "text/plain": [
       "'4.0 days, 3.0 hours'"
      ]
     },
     "execution_count": 71,
     "metadata": {},
     "output_type": "execute_result"
    }
   ],
   "source": [
    "# This is the easiest (adadadaa) 1:34\n",
    "x = 26**8-1 + 10**7-1 + 26**6-1 + 10**5-1 + 26**4-1 + 10**3-1 + 26**2-1 + 26**1\n",
    "print(\"Search Space {:.2e}\".format(x))\n",
    "display_time(estimate_time(x))"
   ]
  },
  {
   "cell_type": "code",
   "execution_count": 94,
   "metadata": {},
   "outputs": [
    {
     "name": "stdout",
     "output_type": "stream",
     "text": [
      "Search Space 1.19e+10\n"
     ]
    },
    {
     "data": {
      "text/plain": [
       "'5.0 hours, 40.0 minutes'"
      ]
     },
     "execution_count": 94,
     "metadata": {},
     "output_type": "execute_result"
    }
   ],
   "source": [
    "# This is the easiest (adadadaa) 1:34\n",
    "x = 26 * 10 * 26 * 10 * 26 * 10 * 26 * 26\n",
    "print(\"Search Space {:.2e}\".format(x))\n",
    "display_time(estimate_time(x))"
   ]
  },
  {
   "cell_type": "code",
   "execution_count": 72,
   "metadata": {},
   "outputs": [
    {
     "name": "stdout",
     "output_type": "stream",
     "text": [
      "Search Space 2.88e+11\n"
     ]
    },
    {
     "data": {
      "text/plain": [
       "'5.0 days, 17.0 hours'"
      ]
     },
     "execution_count": 72,
     "metadata": {},
     "output_type": "execute_result"
    }
   ],
   "source": [
    "# This is the next hardest (anananaa) 3d, 1h\n",
    "x = 26**8-1 + 36**7-1 + 26**6-1 + 36**5-1 + 26**4-1 + 36**3-1 + 26**2-1 + 26**1\n",
    "print(\"Search Space {:.2e}\".format(x))\n",
    "display_time(estimate_time(x))"
   ]
  },
  {
   "cell_type": "code",
   "execution_count": 73,
   "metadata": {},
   "outputs": [
    {
     "name": "stdout",
     "output_type": "stream",
     "text": [
      "Search Space 2.89e+11\n"
     ]
    },
    {
     "data": {
      "text/plain": [
       "'5.0 days, 18.0 hours'"
      ]
     },
     "execution_count": 73,
     "metadata": {},
     "output_type": "execute_result"
    }
   ],
   "source": [
    "# This is the next hardest (annnnnna) 30 days?\n",
    "x = 26**8-1 + 36**7-1 + 36**6-1 + 36**5-1 + 36**4-1 + 36**3-1 + 36**2-1 + 26**1\n",
    "print(\"Search Space {:.2e}\".format(x))\n",
    "display_time(estimate_time(x))"
   ]
  },
  {
   "cell_type": "code",
   "execution_count": 40,
   "metadata": {},
   "outputs": [
    {
     "data": {
      "text/plain": [
       "1331"
      ]
     },
     "execution_count": 40,
     "metadata": {},
     "output_type": "execute_result"
    }
   ],
   "source": [
    "# validated: 1,331\n",
    "36**2-1 + 36**1"
   ]
  },
  {
   "cell_type": "code",
   "execution_count": 41,
   "metadata": {},
   "outputs": [
    {
     "data": {
      "text/plain": [
       "47986"
      ]
     },
     "execution_count": 41,
     "metadata": {},
     "output_type": "execute_result"
    }
   ],
   "source": [
    "# validated: 47,986\n",
    "36**3-1 + 36**2-1 + 36**1"
   ]
  },
  {
   "cell_type": "code",
   "execution_count": 43,
   "metadata": {},
   "outputs": [
    {
     "data": {
      "text/plain": [
       "1727601"
      ]
     },
     "execution_count": 43,
     "metadata": {},
     "output_type": "execute_result"
    }
   ],
   "source": [
    "# validated: 1,727,601\n",
    "36**4-1 + 36**3-1 + 36**2-1 + 36**1"
   ]
  },
  {
   "cell_type": "code",
   "execution_count": 46,
   "metadata": {},
   "outputs": [
    {
     "data": {
      "text/plain": [
       "62193776"
      ]
     },
     "execution_count": 46,
     "metadata": {},
     "output_type": "execute_result"
    }
   ],
   "source": [
    "# validated: 62,193,776\n",
    "36**5-1 + 36**4-1 + 36**3-1 + 36**2-1 + 36**1"
   ]
  },
  {
   "cell_type": "code",
   "execution_count": 48,
   "metadata": {},
   "outputs": [
    {
     "data": {
      "text/plain": [
       "2238976111"
      ]
     },
     "execution_count": 48,
     "metadata": {},
     "output_type": "execute_result"
    }
   ],
   "source": [
    "# validated: 2,238,976,111\n",
    "36**6-1 + 36**5-1 + 36**4-1 + 36**3-1 + 36**2-1 + 36**1"
   ]
  },
  {
   "cell_type": "code",
   "execution_count": 51,
   "metadata": {},
   "outputs": [
    {
     "data": {
      "text/plain": [
       "2901713047661"
      ]
     },
     "execution_count": 51,
     "metadata": {},
     "output_type": "execute_result"
    }
   ],
   "source": [
    "36**8-1 + 36**7-1 + 36**6-1 + 36**5-1 + 36**4-1 + 36**3-1 + 36**2-1 + 36**1"
   ]
  },
  {
   "cell_type": "code",
   "execution_count": 77,
   "metadata": {},
   "outputs": [
    {
     "name": "stdout",
     "output_type": "stream",
     "text": [
      "2901663210511\n",
      "Search Space 2.90e+12\n"
     ]
    },
    {
     "data": {
      "text/plain": [
       "'8.0 weeks, 1.0 day'"
      ]
     },
     "execution_count": 77,
     "metadata": {},
     "output_type": "execute_result"
    }
   ],
   "source": [
    "#351,907,872,768\n",
    "\n",
    "# This is the next hardest (annnnnna) 30 days?\n",
    "x = 36**8-1 + 36**7-1 + 36**6-1 +26**5-1 + 26**4-1 + 26**3-1 + 26**2-1 + 26**1\n",
    "print(x)\n",
    "print(\"Search Space {:.2e}\".format(x))\n",
    "display_time(estimate_time(x))"
   ]
  },
  {
   "cell_type": "code",
   "execution_count": 80,
   "metadata": {},
   "outputs": [
    {
     "name": "stdout",
     "output_type": "stream",
     "text": [
      "289430204771\n",
      "Search Space 2.89e+11\n"
     ]
    },
    {
     "data": {
      "text/plain": [
       "'5.0 days, 18.0 hours'"
      ]
     },
     "execution_count": 80,
     "metadata": {},
     "output_type": "execute_result"
    }
   ],
   "source": [
    "#   351,907,872,768\n",
    "# 2,901,713,047,031\n",
    "# 1,471,504,859,136\n",
    "# 2,943,009,718,272\n",
    "\n",
    "# This is the next hardest (annnnnna) 30 days?\n",
    "#x1 = 36**8-1 + 36**7-1 + 36**6-1 +36**5-1 + 36**4-1 + 36**3-1 + 26**2-1 + 26**1\n",
    "x1 = 26**8-1 + 36**7-1 + 36**6-1 +36**5-1 + 36**4-1 + 36**3-1 + 36**2-1 + 26**1\n",
    "print(x1)\n",
    "print(\"Search Space {:.2e}\".format(x1))\n",
    "display_time(estimate_time(x1))"
   ]
  },
  {
   "cell_type": "code",
   "execution_count": 81,
   "metadata": {},
   "outputs": [
    {
     "name": "stdout",
     "output_type": "stream",
     "text": [
      "2943009718272\n"
     ]
    }
   ],
   "source": [
    "x = 1471504859136 * 2\n",
    "print(x)"
   ]
  },
  {
   "cell_type": "code",
   "execution_count": null,
   "metadata": {},
   "outputs": [],
   "source": [
    "./mp64.bin -1 ?l -2 ?l?d ?1?2?2?2?2?2?2?1 --combinations\n",
    "1471504859136"
   ]
  },
  {
   "cell_type": "code",
   "execution_count": 84,
   "metadata": {},
   "outputs": [
    {
     "name": "stdout",
     "output_type": "stream",
     "text": [
      "711\n",
      "1296\n"
     ]
    }
   ],
   "source": [
    "print(26**2-1 + 36**1)\n",
    "print(36**2)"
   ]
  },
  {
   "cell_type": "code",
   "execution_count": 85,
   "metadata": {},
   "outputs": [
    {
     "data": {
      "text/plain": [
       "701"
      ]
     },
     "execution_count": 85,
     "metadata": {},
     "output_type": "execute_result"
    }
   ],
   "source": [
    "grc(26, 2)"
   ]
  },
  {
   "cell_type": "code",
   "execution_count": 86,
   "metadata": {},
   "outputs": [
    {
     "data": {
      "text/plain": [
       "1296"
      ]
     },
     "execution_count": 86,
     "metadata": {},
     "output_type": "execute_result"
    }
   ],
   "source": [
    "36**2"
   ]
  },
  {
   "cell_type": "code",
   "execution_count": 87,
   "metadata": {},
   "outputs": [
    {
     "data": {
      "text/plain": [
       "676"
      ]
     },
     "execution_count": 87,
     "metadata": {},
     "output_type": "execute_result"
    }
   ],
   "source": [
    "26**2"
   ]
  },
  {
   "cell_type": "code",
   "execution_count": 89,
   "metadata": {},
   "outputs": [
    {
     "data": {
      "text/plain": [
       "712"
      ]
     },
     "execution_count": 89,
     "metadata": {},
     "output_type": "execute_result"
    }
   ],
   "source": [
    "676+36"
   ]
  },
  {
   "cell_type": "code",
   "execution_count": 90,
   "metadata": {},
   "outputs": [
    {
     "data": {
      "text/plain": [
       "456976"
      ]
     },
     "execution_count": 90,
     "metadata": {},
     "output_type": "execute_result"
    }
   ],
   "source": [
    "26**4"
   ]
  },
  {
   "cell_type": "code",
   "execution_count": 91,
   "metadata": {},
   "outputs": [
    {
     "data": {
      "text/plain": [
       "676"
      ]
     },
     "execution_count": 91,
     "metadata": {},
     "output_type": "execute_result"
    }
   ],
   "source": [
    "26**2"
   ]
  },
  {
   "cell_type": "code",
   "execution_count": 92,
   "metadata": {},
   "outputs": [
    {
     "data": {
      "text/plain": [
       "936"
      ]
     },
     "execution_count": 92,
     "metadata": {},
     "output_type": "execute_result"
    }
   ],
   "source": [
    "26*36"
   ]
  },
  {
   "cell_type": "code",
   "execution_count": 93,
   "metadata": {},
   "outputs": [
    {
     "data": {
      "text/plain": [
       "1471504859136"
      ]
     },
     "execution_count": 93,
     "metadata": {},
     "output_type": "execute_result"
    }
   ],
   "source": [
    "26*36*36*36*36*36*36*26"
   ]
  }
 ],
 "metadata": {
  "kernelspec": {
   "display_name": "Python 3",
   "language": "python",
   "name": "python3"
  },
  "language_info": {
   "codemirror_mode": {
    "name": "ipython",
    "version": 3
   },
   "file_extension": ".py",
   "mimetype": "text/x-python",
   "name": "python",
   "nbconvert_exporter": "python",
   "pygments_lexer": "ipython3",
   "version": "3.8.10"
  }
 },
 "nbformat": 4,
 "nbformat_minor": 4
}
