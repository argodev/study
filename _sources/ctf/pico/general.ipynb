{
 "cells": [
  {
   "cell_type": "markdown",
   "metadata": {},
   "source": [
    "# General Skills"
   ]
  },
  {
   "cell_type": "markdown",
   "metadata": {},
   "source": [
    "## Obedient Cat\n",
    "\n",
    "This is basically a \"test challenge\" to ensure you know how things work. You download the file, read it in a text editor (or just via `cat`), and you can recover the flag for submission.\n",
    "\n",
    "```bash\n",
    "$ cat flag\n",
    "picoCTF{redacted_value}\n",
    "```"
   ]
  },
  {
   "cell_type": "markdown",
   "metadata": {},
   "source": [
    "---\n",
    "\n",
    "## Python Wrangling\n",
    "\n",
    "This is a \"can you run python and follow instructions\" challenge. You start with a script `ende.py` that can encrypt/decrypt a file (`flag.txt.en`) using the password in `pw.txt`. You can do this in two steps, or in a one-liner as follows:\n",
    "\n",
    "```bash\n",
    "python3 ende.py -d flag.txt.en < pw.txt\n",
    "Please enter the password:picoCTF{redacted_value}\n",
    "```"
   ]
  },
  {
   "cell_type": "markdown",
   "metadata": {},
   "source": [
    "---\n",
    "\n",
    "## Wave a flag\n",
    "\n",
    "This is a simple test to see if you know how to interact with command-line tools by asking for arguments. Additionally, you need to know a little about execute permissions.\n",
    "\n",
    "```bash\n",
    "# make it executable\n",
    "$ chmod +x warm\n",
    "\n",
    "# run it to see what it does\n",
    "$ ./warm \n",
    "Hello user! Pass me a -h to learn what I can do!\n",
    "\n",
    "# follow the instructions\n",
    "$ ./warm -h\n",
    "Oh, help? I actually don't do much, but I do have this flag here: picoCTF{redacted_value}\n",
    "```"
   ]
  },
  {
   "cell_type": "markdown",
   "metadata": {},
   "source": [
    "---\n",
    "\n",
    "## Nice netcat...\n",
    "\n",
    "We are pointed to `$ nc mercury.picoctf.net 22902` but told that the program doesn't speak English.\n",
    "\n",
    "Looking at the response, it looks like ascii, so let's dump the data and see if we can do something\n",
    "\n",
    "```bash\n",
    "# get the data and store it in a file called data\n",
    "$ nc mercury.picoctf.net 22902 > data\n",
    "\n",
    "# loop through the file, convert each line to ascii and print it out\n",
    "$ while read ln; do printf \"\\x$(printf %x $ln)\"; done < data\n",
    "picoCTF{redacted_value}\n",
    "```"
   ]
  },
  {
   "cell_type": "markdown",
   "metadata": {},
   "source": [
    "---\n",
    "\n",
    "## Static ain't always noise\n",
    "\n",
    "For this challenge you are provided two files, `static` and a potentially helpful bash script, `ltdis.sh`\n",
    "\n",
    "The `ltdis.sh` script seems like a bit of a sledge hammer... I simply ran strings, grepped for 'pico' and found the flag.\n",
    "\n",
    "```bash\n",
    "$ strings static | grep pico\n",
    "picoCTF{redacted_value}\n",
    "```\n"
   ]
  },
  {
   "cell_type": "markdown",
   "metadata": {},
   "source": [
    "---\n",
    "\n",
    "## Tab, Tab, Attack\n",
    "\n",
    "The description for this challenge suggests something about tabcomplete and rambling directory structures and filenames. Provided is a zip file, `Addadshashanammu.zip`. Finding the key is pretty easy:\n",
    "\n",
    "```bash\n",
    "# unzip the file\n",
    "$ unzip Addadshashanammu.zip \n",
    "\n",
    "# cat the deepest-extracted file (looked interesting)\n",
    "$ cat Addadshashanammu/Almurbalarammi/Ashalmimilkala/Assurnabitashpi/Maelkashishi/Onnissiralis/Ularradallaku/fang-of-haynekhtnamet\n",
    "\n",
    "# clear that it is a binary but there is a string version of the flag\n",
    "# let's get it\n",
    "$ strings Addadshashanammu/Almurbalarammi/Ashalmimilkala/Assurnabitashpi/Maelkashishi/Onnissiralis/Ularradallaku/fang-of-haynekhtnamet | grep pico\n",
    "*ZAP!* picoCTF{redacted_value}\n",
    "```"
   ]
  },
  {
   "cell_type": "markdown",
   "metadata": {},
   "source": [
    "---\n",
    "\n",
    "## Magikarp Ground Mission\n",
    "\n",
    "This is just a simple challenge to confirm you know how to ssh, how to navigate around and read files.\n",
    "\n",
    "Once in, cat `1of3.flag.txt`, read the instructions file and cat `/2of3.flag.txt`. Read the instructions file and then cat `~/3of3.flag.txt`. Assemble the results and go. \n"
   ]
  },
  {
   "cell_type": "markdown",
   "metadata": {},
   "source": [
    "---\n",
    "\n",
    "## Lets Warm Up\n",
    "\n",
    "A simple test to see if you can convert between hex and ASCII characters.\n",
    "\n",
    "```bash\n",
    "# simple lookup table\n",
    "$ man ascii\n",
    "```\n",
    "\n",
    "```{warning}\n",
    "I don't like the instructions for this challenge, because you are expected to calculate the result (easy enough), but then you have to assume how to format the flag (normal format, `picoCTF{<value>}`). It's not hard, but the ambiguity isn't helpful.\n",
    "```\n"
   ]
  },
  {
   "cell_type": "markdown",
   "metadata": {},
   "source": [
    "---\n",
    "\n",
    "## Warmed Up\n",
    "\n",
    "Just need to convert a hex value to decimal\n",
    "\n",
    "```bash\n",
    "$ python -c print(int(0x3D))\n",
    "61\n",
    "```"
   ]
  },
  {
   "cell_type": "markdown",
   "metadata": {},
   "source": [
    "---\n",
    "\n",
    "## 2Warm\n",
    "\n",
    "Here we convert a decimal number to a binary string\n",
    "\n",
    "```bash\n",
    "$ python -c 'print(format(42, \"b\"))'\n",
    "101010\n",
    "```"
   ]
  },
  {
   "cell_type": "markdown",
   "metadata": {},
   "source": [
    "---\n",
    "\n",
    "## what's a net cat?\n",
    "\n",
    "This is another introduction to netcat.\n",
    "\n",
    "```bash\n",
    "$ nc jupiter.challenges.picoctf.org 41120\n",
    "You're on your way to becoming the net cat master\n",
    "picoCTF{redacted_value}\n",
    "```"
   ]
  },
  {
   "cell_type": "markdown",
   "metadata": {},
   "source": [
    "---\n",
    "\n",
    "## strings it\n",
    "\n",
    "This is getting old now... donwload the file, run strings, submit flag.\n",
    "\n",
    "```bash\n",
    "$ strings strings | grep pico\n",
    "picoCTF{redacted_value}\n",
    "```"
   ]
  },
  {
   "cell_type": "markdown",
   "metadata": {},
   "source": [
    "---\n",
    "\n",
    "## Bases\n",
    "\n",
    "This looks like a base64 conversion question.\n",
    "\n",
    "```bash\n",
    "$ echo \"bDNhcm5fdGgzX3IwcDM1\" | base64 -d\n",
    "redacted_value\n",
    "```"
   ]
  },
  {
   "cell_type": "markdown",
   "metadata": {},
   "source": [
    "---\n",
    "\n",
    "## First Grep\n",
    "\n",
    "Another simple test to see if you can grep\n",
    "\n",
    "```bash\n",
    "# option 1\n",
    "$ cat file| grep pico\n",
    "picoCTF{redacted_value}\n",
    "\n",
    "# option 2\n",
    "$ grep \"pico\" file \n",
    "picoCTF{redacted_value}\n",
    "```"
   ]
  },
  {
   "cell_type": "markdown",
   "metadata": {},
   "source": [
    "---\n",
    "\n",
    "## Codebook\n",
    "\n",
    "Asked to run a python script in the same directory as a text file.\n",
    "\n",
    "This really wasn't even a challenge... simply run `$ python3 code.py` and you are presented with the flag."
   ]
  },
  {
   "cell_type": "markdown",
   "metadata": {},
   "source": [
    "---\n",
    "\n",
    "## convertme.py\n",
    "\n",
    "In this challenge, you are given a python script that presents you a randomly-generated int in decimal that you are to convert to binary. The challenge is easy enough (use your head, a calculator, cyberchef, etc.). I quickly solved the challenge, but stumbled onto a tool chain called `expect` that is designed to automate console program interactions. I got to thinking it might be worth digging into a bit.\n",
    "\n",
    "I spent *way* more time on it than I should have, but I eventually got something working. I need to get better (and *much faster*) at this kind of scripting, but I think it might add some value."
   ]
  },
  {
   "cell_type": "markdown",
   "metadata": {},
   "source": [
    "---\n",
    "\n",
    "## fixme1.py\n",
    "\n",
    "In this one you needed to download a Python script and figure out what was wrong with it/was preventing it from running. This one was easy as there was an indentation problem... likely trying to highlight the importance of whitespace in the Python language."
   ]
  },
  {
   "cell_type": "markdown",
   "metadata": {},
   "source": [
    "---\n",
    "\n",
    "## fixme2.py\n",
    "\n",
    "Similar to the last one, we had a broken python script we needed to fix. In this one, we had an assignment (`=`) operator being used in the place of equality (`==`). A simple fix and the flag was printed."
   ]
  },
  {
   "cell_type": "markdown",
   "metadata": {},
   "source": [
    "---\n",
    "\n",
    "## Glitch Cat\n",
    "\n",
    "This was another simple case. When you connect to the service you get a string back, but it is a malformed code. It looks something like this:\n",
    "\n",
    "```text\n",
    "'picoCTF{gl17ch_m3_n07_' + chr(0x39) + chr(0x63) + chr(0x34) + chr(0x32) + chr(0x61) + chr(0x34) + chr(0x35) + chr(0x64) + '}'\n",
    "```\n",
    "\n",
    "The obvious task is to convert the encoded values to their actual values. I did this one step at a time, using some python one-liners such as `python3 -c \"print(char(0x39))\"`"
   ]
  },
  {
   "cell_type": "markdown",
   "metadata": {},
   "source": [
    "---\n",
    "\n",
    "## HashingJobApp\n",
    "\n",
    "This service gives you 3 strings (one at a time) that you need to calculate the md5 sum for and submit. I solved it manually, using a separate tab and an open python window. I then went back, of course, and figured that this wasn't quite the best plan givne I would likely need to automate this sort of thing moving forward.\n",
    "\n",
    "I learned a bit more about how `expect` scripts work, and ended up solving the challenge in a nicely automated fashion."
   ]
  },
  {
   "cell_type": "markdown",
   "metadata": {},
   "source": [
    "---\n",
    "\n",
    "## PW Crack 1\n",
    "\n",
    "In this challenge, you simply need to read the python code to determine the hard-coded password. You then provide this password when running the script, and you are presented with the flag."
   ]
  },
  {
   "cell_type": "markdown",
   "metadata": {},
   "source": [
    "---\n",
    "\n",
    "## PW Crack 2\n",
    "\n",
    "Quite similar to the last one... this time you needed to convert some hex codes to ascii and then enter the password. Felt like a repeat of things we've already done."
   ]
  },
  {
   "cell_type": "markdown",
   "metadata": {},
   "source": [
    "---\n",
    "\n",
    "## PW Crack 3\n",
    "\n",
    "There is probably a \"right\" way to solve this, but I'm sure I didn't do it. I read enough of the code to determine it would be quite easy to write a brute-force script to match the hash. I did this, figured out which value worked, and then submitted it to earn the flag."
   ]
  },
  {
   "cell_type": "markdown",
   "metadata": {},
   "source": [
    "---\n",
    "\n",
    "## PW Crack 4\n",
    "\n",
    "The point of this challenge seems to be to encourage you to script or do what I did for the prior challenge. With just some updates to a few things, the scripts/tools from pw 3 worked perfectly on pw 4."
   ]
  },
  {
   "cell_type": "markdown",
   "metadata": {},
   "source": [
    "---\n",
    "\n",
    "## PW Crack 5\n",
    "\n",
    "This challenge was similar to the last few, but you needed to adjust your brute-forcing script to read the candidate passwords in from a file. A minor key with this is to ensure that you aren't including the line return (`\\n`) in your hash attempt."
   ]
  },
  {
   "cell_type": "markdown",
   "metadata": {},
   "source": [
    "---\n",
    "\n",
    "## runme.py\n",
    "\n",
    "I don't understand the purpose of this challenge. You simply downladed a python script, ran it, and were given the flag."
   ]
  },
  {
   "cell_type": "markdown",
   "metadata": {},
   "source": [
    "---\n",
    "\n",
    "## Serpentine\n",
    "\n",
    "The goal of this challenge appears to be to ensure that you know how to read a python script, understand what functions are, and to ensure that a function is called correctly. All you need to do is add a line in the switch stmt to print the flag, run it, and you are good."
   ]
  },
  {
   "cell_type": "markdown",
   "metadata": {},
   "source": [
    "---\n",
    "\n",
    "## First Find\n",
    "\n",
    "This challenge wants to confirm you know how to use the `find` command. You unzip the source file, search for the file in question, and then display the output."
   ]
  },
  {
   "cell_type": "markdown",
   "metadata": {},
   "source": [
    "---\n",
    "\n",
    "## Big Zip\n",
    "\n",
    "Presented with a large zip file, you need to find the flag. None of the files have particularly interesting names, so you need to recursively-grep through the files... something like `grep -r \"pico\" .`"
   ]
  },
  {
   "cell_type": "markdown",
   "metadata": {},
   "source": [
    "---\n",
    "\n",
    "## Based\n",
    "\n",
    "This is another data encoding challenge. You are given a string of bits (binary) that you need to translate quickly, in this case, within 45 seconds. There are probably a handful of ways to solve this, including a script. Instead, I ended up using the online CyberChef tool to help out.\n",
    "\n",
    "I was presented a binary string that I translated using the `From Binary`, followed by an octal string for which I used thed `from Octal` tool, and finally a hexadecimal string where I used the `from Hex` tool. The easiest way to set up CyberChef for this would be to have three different input tabs, have the appropriate recipies enabled/disabled for each tab, so it is just a matter of copy/paste.\n",
    "\n",
    "*__Actually__*, my first solution bothered me as I didn't think it was scalable and wouldn't really help me in the long term. I went back and re-solved it using a Python-based interactive netcat client. The script is available in the assets section.\n"
   ]
  },
  {
   "cell_type": "markdown",
   "metadata": {},
   "source": [
    "---\n",
    "\n",
    "## plumbing\n",
    "\n",
    "This one was a bit too easy for 200 points. You connect via `nc` to a server and are given a bunch of text. Based on what we've seen earlier, it is pretty easy to script/find the flag.\n",
    "\n",
    "```bash\n",
    "$ nc jupiter.challenges.picoctf.org 4427 | grep pico\n",
    "picoCTF{redacted_value}\n",
    "```"
   ]
  },
  {
   "cell_type": "markdown",
   "metadata": {},
   "source": [
    "---\n",
    "\n",
    "## mus1c\n",
    "\n",
    "This one was a bit strange, and as I comment below, a bit of a disapointment. The \"trick\" you need to figure out is that it is actually a program, written in a esoteric programming language called [RockStar](https://codewithrockstar.com/). If you take the lyrics provided and dump them into the [online interpreter](https://codewithrockstar.com/online), you get a series of values that look quite like ASCII. If you convert those values into ASCII characters (either via a script or online tool such as CyberChef), you'll get the value you can then plug into the flag format for submission.\n",
    "\n",
    "```{tip}\n",
    "For some dumb reason, I was having trouble figuring out how to convince CyberChef to give me characters from ASCII codes. Come to find out, I was using the wrong recipie. Using the `From Decimal` tool is all that is needed, and you can change the delimiter to various things such as `Line feed` which was helpful in this case.\n",
    "```\n",
    "\n",
    "\n",
    "```{error} failure\n",
    "I *really* do not like this type of challenge and am a bit disappointed that it is included in picoCTF. For all of the other challenges, there is a clear pedagogical rationale that maps to building strong cyber security skills. This is simply searching the Internet for a weird phrase from some provided text, assuming you will guess the linking, and plugging some things together. \n",
    "```"
   ]
  },
  {
   "cell_type": "markdown",
   "metadata": {},
   "source": [
    "---\n",
    "\n",
    "## flag_shop\n",
    "\n",
    "This is a simple test to see if you can read source code and if you understand the issues with int roll-overs. You are provided the source code `store.c` and told to connect to a server via netcat. \n",
    "\n",
    "The keys to this challenge are as follows:\n",
    "\n",
    "* Understand the starting balance of `1100`\n",
    "* Notice that buying the \"real\" flag costs `100000`\n",
    "* Notice that you can buy a number of \"fake\" flags at `900` each. \n",
    "* Somehow, we need to get our balance up from `1100` to over `100000`\n",
    "* This process of buying fake flags is the only place (other than purchings the real flags) that your account balance is updated.\n",
    "* If you try to purchase a stupidly-large number of flags (e.g. 2,500,000), the calculated `cost` will actually be negative (due to integer rollover). \n",
    "* This then subtracts a large _negative_ value from your current balance, effectively _adding_ to it, making you a rich person\n",
    "* you can then purchase the flag with ease\n",
    "\n",
    "```{tip} hint\n",
    "The key take-away here is that multiplying two `int` values (_signed_), can easily result in a value larger than `INT_MAX`. If this is unchecked, it will overflow, resulting in a negative number as the result.\n",
    "```\n",
    "\n",
    "I initially did the math to get my purchase number with a calculator, but I then went back and wrote a little program to calculate the _optimal_ value just for learning purposes:\n",
    "\n",
    "```c\n",
    "#include <stdio.h>\n",
    "#include <stdlib.h>\n",
    "int main()\n",
    "{\n",
    "    // these both are signed!\n",
    "    int account_balance = 0;\n",
    "    int number_flags = 0;\n",
    "    int total_cost = 0;\n",
    "    \n",
    "    do {\n",
    "        account_balance = 1100;\n",
    "        number_flags++;\n",
    "        total_cost = 900*number_flags;\n",
    "        if (total_cost <= account_balance) {\n",
    "            account_balance = account_balance - total_cost;\n",
    "        }\n",
    "    } while (account_balance < 10000);\n",
    "\n",
    "    printf(\"\\nWhen the number of fake flags ordered is %d\\n\", number_flags);\n",
    "    printf(\"The resulting cost is %d\\n\", total_cost);\n",
    "    printf(\"And your account balance will be %d\\n\", account_balance);\n",
    "}\n",
    "```\n",
    "\n",
    "\n",
    "And if we build/run it...\n",
    "\n",
    "```bash\n",
    "$ gcc -g -o mytest mytest.c\n",
    "$ ./mytest                 \n",
    "\n",
    "When the number of fake flags ordered is 2386095\n",
    "The resulting cost is -2147481796\n",
    "And your account balance will be 2147482896\n",
    "```"
   ]
  },
  {
   "cell_type": "markdown",
   "metadata": {},
   "source": [
    "---\n",
    "\n",
    "## 1_wanna_b3_a_r0ck5star\n",
    "\n",
    "Again with the waste-of-time challenges.\n",
    "\n",
    "If you want to waste your time trying to solve it, go ahead. Otherwise, consider checking out an online write-up. [^1]\n",
    "\n",
    "\n",
    "[^1]: A decent writeup of `1_wanna_b3_a_r0ck5star` can be found here: https://github.com/Dvd848/CTFs/blob/master/2019_picoCTF/1_wanna_b3_a_r0ck5tar.md"
   ]
  },
  {
   "cell_type": "markdown",
   "metadata": {},
   "source": []
  }
 ],
 "metadata": {
  "kernelspec": {
   "display_name": "Python 3.10.6 ('venv': venv)",
   "language": "python",
   "name": "python3"
  },
  "language_info": {
   "name": "python",
   "version": "3.10.6"
  },
  "orig_nbformat": 4,
  "vscode": {
   "interpreter": {
    "hash": "8fcf66f6e59375db85f6baa3058ecc2896497378edf6406cdc8f5354216bb4af"
   }
  }
 },
 "nbformat": 4,
 "nbformat_minor": 2
}
