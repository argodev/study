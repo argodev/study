{
 "cells": [
  {
   "cell_type": "markdown",
   "metadata": {},
   "source": [
    "# Cryptography"
   ]
  },
  {
   "cell_type": "markdown",
   "metadata": {},
   "source": [
    "## Mod 26\n",
    "\n",
    "This is a test to see if you know what `ROT13` is, and how to encode/deocde from it. You are provided a value (`cvpbPGS{arkg_gvzr_V'yy_gel_2_ebhaqf_bs_ebg13_GYpXOHqX}`) that looks a bit like a flag and that is all.\n",
    "\n",
    "[ROT13](https://en.wikipedia.org/wiki/ROT13) is a substitution cipher where you take one letter in plain text, increase the index by 13, and use the corresponding letter in the \"enciphered\" text. This is a special case of a [Caesar cipher](https://en.wikipedia.org/wiki/Caesar_cipher) because there are 26 letters in the Roman alphabet, the encoder is its own decoder.\n",
    "\n",
    "There are a couple of easy ways to go about solving this. I've listed a few here because I thought they were informative for future challenges:\n",
    "\n",
    "* [Cyber Chef](https://gchq.github.io/CyberChef/) with a `ROT13` recipe gives you the results straight away. This is how I solved it myself (kinda lazy, but effective).\n",
    "\n",
    "* I saw some examples using the Linux `tr` command that I thought were pretty neat. The following example shows how:\n",
    "\n",
    "```bash\n",
    "# simple and straight-forward\n",
    "$ echo \"cvpbPGS{arkg_gvzr_V'yy_gel_2_ebhaqf_bs_ebg13_GYpXOHqX}\" | tr 'A-Za-z' 'N-ZA-Mn-za-m'\n",
    "picoCTF{redacted_value}\n",
    "\n",
    "# or, let's get a little fancy...\n",
    "# we could/should put this first line in our .bashrc\n",
    "$ alias rot13=\"tr 'A-Za-z' 'N-ZA-Mn-za-m'\"\n",
    "\n",
    "# then, you can call it directly\n",
    "$ echo \"cvpbPGS{arkg_gvzr_V'yy_gel_2_ebhaqf_bs_ebg13_GYpXOHqX}\" | rot13\n",
    "picoCTF{redacted_value}\n",
    "```\n",
    "\n",
    "* I also saw a python one-liner that I thought was nice:\n",
    "\n",
    "```bash\n",
    "$ echo \"cvpbPGS{arkg_gvzr_V'yy_gel_2_ebhaqf_bs_ebg13_GYpXOHqX}\" | python3 -c 'import sys; import codecs; print(codecs.encode(sys.stdin.read(), \"rot13\"))'\n",
    "picoCTF{redacted_value}\n",
    "```"
   ]
  },
  {
   "cell_type": "markdown",
   "metadata": {},
   "source": []
  }
 ],
 "metadata": {
  "kernelspec": {
   "display_name": "Python 3.10.6 ('venv': venv)",
   "language": "python",
   "name": "python3"
  },
  "language_info": {
   "name": "python",
   "version": "3.10.6"
  },
  "orig_nbformat": 4,
  "vscode": {
   "interpreter": {
    "hash": "8fcf66f6e59375db85f6baa3058ecc2896497378edf6406cdc8f5354216bb4af"
   }
  }
 },
 "nbformat": 4,
 "nbformat_minor": 2
}
