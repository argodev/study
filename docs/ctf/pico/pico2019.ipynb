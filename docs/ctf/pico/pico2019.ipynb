{
 "cells": [
  {
   "cell_type": "markdown",
   "metadata": {},
   "source": [
    "# PicoCTF 2019"
   ]
  },
  {
   "cell_type": "markdown",
   "metadata": {},
   "source": [
    "## Glory of the Garden\n",
    "\n",
    "Given an image (`garden.jpg`), can you find the flag.\n",
    "\n",
    "Looking at the image didn't show much, and there was nothing immediately obvious in the metadata. Knowing that it is a 50 pt problem, it has to be pretty easy, so I ran strings against it and the last line includes: `Here is a flag \"picoCTF{redacted_value}\"`"
   ]
  },
  {
   "cell_type": "markdown",
   "metadata": {},
   "source": [
    "---\n",
    "\n",
    "## So Meta\n",
    "\n",
    "Asked to find the flag in the provided picture: `pico_img.png`.\n",
    "\n",
    "Probably could have used some image-processing tool to inspect the metadata, but I ran it through strings and immediately found what I was looking for (e.e. `$ strings pico_img.png | grep pico`)\n"
   ]
  },
  {
   "cell_type": "markdown",
   "metadata": {},
   "source": [
    "---\n",
    "\n",
    "## shark on wire 1\n",
    "\n",
    "Given a capture file (`capture.pcap`), you are asked to recover the flag.\n",
    "\n",
    "After noodling around a bit, I found the flag, but I wish I had a better way.\n",
    "\n",
    "I searched for `pico` and found nothing.\n",
    "\n",
    "I then went to `Statistics --> Conversations`. From there, I started looking around at ones that looked interesting, and started clicking on UDP converstions where there was data being sent back (e.g. `B --> A`). After clicking a few and pressing `Follow Stream...` I found the flag.\n",
    "\n",
    "While this works for the problem, there *must* be a better way. I read a handful of write-ups, and many people \"just searched\" like I had and seemed to have stumbled upon it. I still don't like that as a sustainable approach, because it feels too much like luck.\n",
    "\n",
    "I then found [this writeup](https://github.com/Dvd848/CTFs/blob/master/2019_picoCTF/shark_on_wire_1.md) which used a bash script with `tshark` (command-line version of wireshark) to find it. This is a much better approach in my mind.\n",
    "\n",
    "Therefore, in order to ensure I learned from this, I pulled apart the script so I could understand what is going on.  I include it below with my comments for clarity, but credit for the script goes to [dvd848](https://github.com/Dvd848)\n",
    "\n",
    "```bash\n",
    "#!/bin/bash\n",
    "\n",
    "# this is the file we are interrogating\n",
    "PCAP=shark_on_wire.pcap; \n",
    "\n",
    "# determine how many UDP streams exist in the file\n",
    "# this number increments so we just grab the last one.\n",
    "END=$(tshark -r $PCAP -T fields -e udp.stream | sort -n | tail -1); \n",
    "\n",
    "# loop through the UDP streams...\n",
    "for ((i=0;i<=END;i++));\n",
    "do\n",
    "    # for the given stream:\n",
    "    #   show the data as text, ignoring any errors\n",
    "    #   remove any line returns via the translate (`tr`) tool\n",
    "    #   grep/search for \"picoCTF\"\n",
    "    tshark -r $PCAP -Y \"udp.stream eq $i\" -T fields -e data.text -o data.show_as_text:TRUE 2>/dev/null | tr -d '\\n' | grep \"picoCTF\"; \n",
    "\n",
    "    # if the result of the prior command was \"0\" (successful), indicate which stream it was in.\n",
    "    if [ $? -eq 0 ]; then\n",
    "        echo \"(Stream #$i)\";\n",
    "    fi; \n",
    "done\n",
    "```"
   ]
  },
  {
   "cell_type": "markdown",
   "metadata": {},
   "source": [
    "---\n",
    "\n",
    "## extensions\n",
    "\n",
    "By the name, you can guess that the file extension is wrong. If you run `file` against it, you see that it believes it to be a `png`.\n",
    "\n",
    "Running `strings` shows you nothing, but if you open it in an image viewer you see the flag to submit\n"
   ]
  },
  {
   "cell_type": "markdown",
   "metadata": {},
   "source": [
    "---\n",
    "\n",
    "## What Lies Within\n",
    "\n",
    "File is definitely an image. Neither `identify` or `exiftool` showed anything interesting. Running `strings` didn't make anything immediately obvious either."
   ]
  },
  {
   "cell_type": "markdown",
   "metadata": {},
   "source": [
    "---\n",
    "\n",
    "## m00nwalk\n",
    "\n",
    "```{note}\n",
    "not yet started\n",
    "```"
   ]
  },
  {
   "cell_type": "markdown",
   "metadata": {},
   "source": [
    "---\n",
    "\n",
    "## WhitePages\n",
    "\n",
    "```{note}\n",
    "not yet started\n",
    "```"
   ]
  },
  {
   "cell_type": "markdown",
   "metadata": {},
   "source": [
    "---\n",
    "\n",
    "## c0rrupt\n",
    "\n",
    "```{note}\n",
    "not yet started\n",
    "```"
   ]
  },
  {
   "cell_type": "markdown",
   "metadata": {},
   "source": [
    "---\n",
    "\n",
    "## like1000\n",
    "\n",
    "```{note}\n",
    "not yet started\n",
    "```"
   ]
  },
  {
   "cell_type": "markdown",
   "metadata": {},
   "source": [
    "---\n",
    "\n",
    "## m00nwalk2\n",
    "\n",
    "```{note}\n",
    "not yet started\n",
    "```"
   ]
  },
  {
   "cell_type": "markdown",
   "metadata": {},
   "source": [
    "---\n",
    "\n",
    "## Investigative Reversing 0\n",
    "\n",
    "```{note}\n",
    "not yet started\n",
    "```"
   ]
  },
  {
   "cell_type": "markdown",
   "metadata": {},
   "source": [
    "---\n",
    "\n",
    "## shark on wire 2\n",
    "\n",
    "```{note}\n",
    "not yet started\n",
    "```"
   ]
  },
  {
   "cell_type": "markdown",
   "metadata": {},
   "source": [
    "---\n",
    "\n",
    "## Investigative Reversing 1\n",
    "\n",
    "```{note}\n",
    "not yet started\n",
    "```"
   ]
  },
  {
   "cell_type": "markdown",
   "metadata": {},
   "source": [
    "---\n",
    "\n",
    "## Investigative Reversing 2\n",
    "\n",
    "```{note}\n",
    "not yet started\n",
    "```"
   ]
  },
  {
   "cell_type": "markdown",
   "metadata": {},
   "source": [
    "---\n",
    "\n",
    "## WebNet0\n",
    "\n",
    "```{note}\n",
    "not yet started\n",
    "```"
   ]
  },
  {
   "cell_type": "markdown",
   "metadata": {},
   "source": [
    "---\n",
    "\n",
    "## Investigative Reversing 3\n",
    "\n",
    "```{note}\n",
    "not yet started\n",
    "```"
   ]
  },
  {
   "cell_type": "markdown",
   "metadata": {},
   "source": [
    "---\n",
    "\n",
    "## Investigative Reversing 4\n",
    "\n",
    "```{note}\n",
    "not yet started\n",
    "```"
   ]
  },
  {
   "cell_type": "markdown",
   "metadata": {},
   "source": [
    "---\n",
    "\n",
    "## WebNet1\n",
    "\n",
    "```{note}\n",
    "not yet started\n",
    "```"
   ]
  },
  {
   "cell_type": "markdown",
   "metadata": {},
   "source": [
    "---\n",
    "\n",
    "## investigation_encoded_1\n",
    "\n",
    "```{note}\n",
    "not yet started\n",
    "```"
   ]
  },
  {
   "cell_type": "markdown",
   "metadata": {},
   "source": [
    "---\n",
    "\n",
    "## investigation_encoded_2\n",
    "\n",
    "```{note}\n",
    "not yet started\n",
    "```"
   ]
  },
  {
   "cell_type": "markdown",
   "metadata": {},
   "source": [
    "---\n",
    "\n",
    "## B1g_Mac\n",
    "\n",
    "```{note}\n",
    "not yet started\n",
    "```"
   ]
  },
  {
   "cell_type": "markdown",
   "metadata": {},
   "source": []
  }
 ],
 "metadata": {
  "kernelspec": {
   "display_name": "Python 3.10.6 ('venv': venv)",
   "language": "python",
   "name": "python3"
  },
  "language_info": {
   "name": "python",
   "version": "3.10.6"
  },
  "orig_nbformat": 4,
  "vscode": {
   "interpreter": {
    "hash": "8fcf66f6e59375db85f6baa3058ecc2896497378edf6406cdc8f5354216bb4af"
   }
  }
 },
 "nbformat": 4,
 "nbformat_minor": 2
}
