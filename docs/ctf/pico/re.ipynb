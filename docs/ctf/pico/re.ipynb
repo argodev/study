{
 "cells": [
  {
   "cell_type": "markdown",
   "metadata": {},
   "source": [
    "# Reverse Engineering"
   ]
  },
  {
   "cell_type": "markdown",
   "metadata": {},
   "source": [
    "## Transformation\n",
    "\n",
    "This one takes a little more work than some of the other starter challenges. You are given a file `enc` and a little bit of code: `''.join([chr((ord(flag[i]) << 8) + ord(flag[i + 1])) for i in range(0, len(flag), 2)])` and asked to figure out what it is. To solve this you likely need to understand what the \"code\" is doing and what each command is. This appears to be a python one-liner that takes a variable `flag`, loops through it, manipulates it a bit, and spits it out. To get the flag back in 'plain text', we simply need to reverse the process.\n",
    "\n",
    "What appears to be happening in the provided python script is this:\n",
    "\n",
    "* loop through the characters in `flag`, starting with the \"0th\", and skipping every other\n",
    "* take the ordinal value of the current character (int that maps to the ASCII code, e.g. 'a' becomes 97) and shift that value up by 8.\n",
    "* then take the next character in the flag and add it to the shifted value\n",
    "* output the resulting number as a string character.\n",
    "\n",
    "To \"undo\" the above, we need to:\n",
    "\n",
    "* loop through the characters in enc _one at a time_\n",
    "* take the ordinal value of the current character\n",
    "* take the right-most 8 bits and convert that to a character (becomes the second letter)\n",
    "* shift the remaining number down 8, convert that to a character\n",
    "* output the results\n",
    "\n",
    "A \"verbose\" version of the reversing is shown in the following python function:\n",
    "\n",
    "```python\n",
    "def decode(enc):\n",
    "    result=''\n",
    "    for i in range(0, len(enc)):\n",
    "        result += chr(ord(enc[i]) >> 8)\n",
    "        result += chr(ord(enc[i]) & 0xff)\n",
    "    return result\n",
    "```\n",
    "\n",
    "A \"one liner\" is as follows:\n",
    "\n",
    "```python\n",
    "''.join([chr(ord(enc[i]) >> 8) + chr(ord(enc[i]) & 0xff) for i in range(0, len(enc))])\n",
    "```\n",
    "\n",
    "So, you can tie it all together if you like as follows:\n",
    "\n",
    "```bash\n",
    "$ cat enc | python3 -c \"import sys; enc=sys.stdin.read(); plain=''.join([chr(ord(enc[i]) >> 8) + chr(ord(enc[i]) & 0xff) for i in range(0, len(enc))]); print(plain)\"\n",
    "picoCTF{redacted_value}\n",
    "```\n"
   ]
  },
  {
   "cell_type": "markdown",
   "metadata": {},
   "source": [
    "---\n",
    "\n",
    "## keygenme-py\n",
    "\n",
    "For this challenge, you are given the file `keygenme-trial.py` and no further instructions.\n",
    "\n",
    "If we run the script, we see that there is some functionality that is protected by a license key. It doesn't take much guessing to assume we need to figure out the key, the result of which will either be the flag itself, or will unlock functionality that will render it. Looking into the code we see the function `check_key(user_key, bUsername_trial)` that looks quite promising. Digging into it and the surrounding code, we learn the following things:\n",
    "\n",
    "* Must be 32 chars long\n",
    "* Starts with `picoCTF{1n_7h3_|<3y_of_`\n",
    "* Ends with `}`\n",
    "* Has 8 unknown chars in the middle `xxxxxxxx`\n",
    "* username_trial is `GOUGH`\n",
    "\n",
    "Additionally, the main logic of the `check_key()` function is as follows:\n",
    "\n",
    "1. Confirm provided key is 32 chars long\n",
    "1. Ensure the first part of the key matches `picoCTF{1n_7h3_|<3y_of_`\n",
    "1. Loops through the next 8 characters to ensure they match particular indicies of a hash based on the trial username\n",
    "1. If everything else has passed, we are good to go.\n",
    "\n",
    "All of the hash-based checks look at the same hash, simply compare against different indicies. So, let's do a one-liner to generate our own copy of the hash so we can work against it.\n",
    "\n",
    "```bash\n",
    "$ python3 -c \"import hashlib; x=hashlib.sha256(b'GOUGH').hexdigest(); print(x)\"\n",
    "e8a1f9146d32473b9605568ca66f7b5c2db9f271f57a8c8e9e121e48accddf2f\n",
    "```\n",
    "\n",
    "Simple enough, we then build our 8-digit key using the proper values from the string above (remember the indicies in the code are zero-based).\n",
    "\n",
    "`f911a486`\n",
    "\n",
    "We then assemble the entire key and submit it to the app to decrypt the \"full\" version of the program.\n"
   ]
  },
  {
   "cell_type": "markdown",
   "metadata": {},
   "source": [
    "---\n",
    "\n",
    "## crackme-py\n",
    "\n",
    "This one is pretty easy. Downloading/running the file didn't seem to do much, so we view it in an editor and notice an uncalled-function `decode_secret()` as well as an interesting constant `bezos_cc_secret`. We add a line at the bottom of the script `decode_secret(bezos_cc_secret)` and then run the script, providing some dummy values, and then being presented with a key.\n"
   ]
  },
  {
   "cell_type": "markdown",
   "metadata": {},
   "source": [
    "---\n",
    "\n",
    "## ARMssembly 0\n",
    "\n",
    "Here we are presented a file (`chall.S`) which is an ARM-based assembly program. We then are asked \"What integer does this program print with arguments `182476535` and `3742084308`? Flag format: picoCTF{XXXXXXXX} -> (hex, lowercase, no 0x, and 32 bits. ex. 5614267 would be picoCTF{0055aabb})\""
   ]
  },
  {
   "cell_type": "markdown",
   "metadata": {},
   "source": [
    "---\n",
    "\n",
    "## vault-door-training\n",
    "\n",
    "We are given a java file and told to read the source in order to find the flag. This one works out pretty easily. Downloading the file and examining it, we see the following:\n",
    "\n",
    "```java\n",
    " public boolean checkPassword(String password) {\n",
    "        return password.equals(\"w4rm1ng_Up_w1tH_jAv4_3808d338b46\");\n",
    "    }\n",
    "```\n",
    "\n",
    "We take the value and craft it into the proper flag format and submit to earn our points"
   ]
  },
  {
   "cell_type": "markdown",
   "metadata": {},
   "source": [
    "---\n",
    "\n",
    "## speeds and feeds\n",
    "\n",
    "We are told to connect via `nc` to `mercury.picoctf.net:59953` and attempt to figure out what is running. We do so, and download the data to `out.txt`. The output appears to be a series of `G-Code` (cnc) commands that starts with `G17 G21 G40...`\n",
    "\n",
    "If you then take the output file and visualize it using a G-Code viewer such as https://ncviewer.com, you can easily read the flag\n",
    "\n"
   ]
  },
  {
   "cell_type": "markdown",
   "metadata": {},
   "source": [
    "---\n",
    "\n",
    "## shop\n",
    "\n",
    "There is a store and the source of the program is provided as a 32-bit ELF file. It is a GO program, statically linked, and includes debug info (not stripped).\n",
    "\n",
    "If you connect to the application (via `nc`), you are presented with the following menu:\n",
    "\n",
    "```text\n",
    "Welcome to the market!\n",
    "=====================\n",
    "You have 40 coins\n",
    "        Item            Price   Count\n",
    "(0) Quiet Quiches       10      12\n",
    "(1) Average Apple       15      8\n",
    "(2) Fruitful Flag       100     1\n",
    "(3) Sell an Item\n",
    "(4) Exit\n",
    "Choose an option: \n",
    "```\n",
    "\n",
    "Obviously, the goal is to purchase a \"Fruitful flag\" and see if you can get things. There are a couple of different ways to go about this. One would be to attempt to find a bug (via RE or otherwise) that will overflow or something to let you see the flag. Additionally, you could simply attempt to find the flag directly via RE.\n",
    "\n",
    "Poking around in the binary, we find `main.get_flag()` which appears to load `flag.txt`. So the question now is, how do we call `get_flag()`?\n",
    "\n"
   ]
  },
  {
   "cell_type": "markdown",
   "metadata": {},
   "source": [
    "---\n",
    "\n",
    "## ARMssembly 1\n",
    "\n",
    "hmmm"
   ]
  },
  {
   "cell_type": "markdown",
   "metadata": {},
   "source": [
    "---\n",
    "\n",
    "## ARMssembly 2\n",
    "\n",
    "hmmm\n"
   ]
  },
  {
   "cell_type": "markdown",
   "metadata": {},
   "source": [
    "---\n",
    "\n",
    "## vault-door-1\n",
    "\n",
    "Another java file... pretty simple to undo. you simply take code that looks like this:\n",
    "\n",
    "```java\n",
    "password.charAt(0)  == 'd' &&\n",
    "password.charAt(29) == 'a' &&\n",
    "password.charAt(4)  == 'r' &&\n",
    "password.charAt(2)  == '5' &&\n",
    "password.charAt(23) == 'r' &&\n",
    "```\n",
    "\n",
    "and put together the appropriate string\n"
   ]
  },
  {
   "cell_type": "markdown",
   "metadata": {},
   "source": [
    "---\n",
    "\n",
    "## Hurry up! Wait!\n",
    "\n",
    "Here you are given a simple binary written in ADA of all things, and you need to RE it and find the flag. After digging around a bit in Ghidra, I came across the following function:\n",
    "\n",
    "```c\n",
    "void FUN_0010298a(void)\n",
    "\n",
    "{\n",
    "  ada__calendar__delays__delay_for(1000000000000000);\n",
    "  FUN_00102616();\n",
    "  FUN_001024aa();\n",
    "  FUN_00102372();\n",
    "  FUN_001025e2();\n",
    "  FUN_00102852();\n",
    "  FUN_00102886();\n",
    "  FUN_001028ba();\n",
    "  FUN_00102922();\n",
    "  FUN_001023a6();\n",
    "  FUN_00102136();\n",
    "  FUN_00102206();\n",
    "  FUN_0010230a();\n",
    "  FUN_00102206();\n",
    "  FUN_0010257a();\n",
    "  FUN_001028ee();\n",
    "  FUN_0010240e();\n",
    "  FUN_001026e6();\n",
    "  FUN_00102782();\n",
    "  FUN_001028ee();\n",
    "  FUN_001023da();\n",
    "  FUN_0010230a();\n",
    "  FUN_0010233e();\n",
    "  FUN_0010226e();\n",
    "  FUN_001022a2();\n",
    "  FUN_001023da();\n",
    "  FUN_001021d2();\n",
    "  FUN_00102956();\n",
    "  return;\n",
    "}\n",
    "```\n",
    "\n",
    "If you look into each of those functions, they appear to print out a single character. Each one builds up the now-familiar string... `picoCTF{....}`\n",
    "\n",
    "Once you have this, you submit it for the flag"
   ]
  },
  {
   "cell_type": "markdown",
   "metadata": {},
   "source": []
  }
 ],
 "metadata": {
  "kernelspec": {
   "display_name": "Python 3.10.6 ('venv': venv)",
   "language": "python",
   "name": "python3"
  },
  "language_info": {
   "name": "python",
   "version": "3.10.6"
  },
  "orig_nbformat": 4,
  "vscode": {
   "interpreter": {
    "hash": "a5cffc6ee2ec3c23f649e3c77c78b30172dce28ca5b68ce871cb1cf4f4cb1d41"
   }
  }
 },
 "nbformat": 4,
 "nbformat_minor": 2
}
