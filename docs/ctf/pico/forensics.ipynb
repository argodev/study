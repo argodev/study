{
 "cells": [
  {
   "cell_type": "markdown",
   "metadata": {},
   "source": [
    "# Forensics"
   ]
  },
  {
   "cell_type": "markdown",
   "metadata": {},
   "source": [
    "## information\n",
    "\n",
    "Here you are presented with an image and asked nothing else. We download the file `cat.jpg` and inspect it. I immediately assumed there was either a string embedded in the file that was or contained the key. Running `strings` on the file and then grepping for `picoCTF` didn't yield anything, but that probably would have been too easy. Opening it with `eog` and then viewing the metadata, however, showed a weird-looking license.\n",
    "\n",
    "Experimenting with this a little rendered the key:\n",
    "\n",
    "```bash\n",
    "$ strings cat.jpg | grep license | cut -d\"'\" -f 2 | base64 -d\n",
    "picoCTF{redacted_value}\n",
    "```"
   ]
  },
  {
   "cell_type": "markdown",
   "metadata": {},
   "source": [
    "---\n",
    "\n",
    "## Matryoska doll\n",
    "\n",
    "As we are told in the instructions, \"Matryoshka dolls are a set of wooden dolls of decreasing size placed one inside another.\" We download `dolls.jpg` and immediately learn that the file does not render properly with `eog`. Running `file` shows it as a `PNG` file rather than jpg. \n",
    "\n",
    "What followed was a cycle of running `binwalk` on the file, followed by extracting the contents (e.g. `binwalk -e <file_name>`) and a repeat. I did this 3 or 4 times, and the final \"inner\" file was `flag.txt`. this file contains the flag to be submitted."
   ]
  },
  {
   "cell_type": "markdown",
   "metadata": {},
   "source": [
    "---\n",
    "\n",
    "## tunn3l v1s10n\n",
    "\n",
    "We are provided a file, `tunn3l_v1s10n` and asked to recover the flag."
   ]
  },
  {
   "cell_type": "markdown",
   "metadata": {},
   "source": []
  }
 ],
 "metadata": {
  "kernelspec": {
   "display_name": "Python 3.10.6 ('venv': venv)",
   "language": "python",
   "name": "python3"
  },
  "language_info": {
   "name": "python",
   "version": "3.10.6"
  },
  "orig_nbformat": 4,
  "vscode": {
   "interpreter": {
    "hash": "8fcf66f6e59375db85f6baa3058ecc2896497378edf6406cdc8f5354216bb4af"
   }
  }
 },
 "nbformat": 4,
 "nbformat_minor": 2
}
