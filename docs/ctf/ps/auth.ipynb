{
 "cells": [
  {
   "cell_type": "markdown",
   "metadata": {},
   "source": [
    "# Authentication"
   ]
  },
  {
   "cell_type": "markdown",
   "metadata": {},
   "source": [
    "## Username enumeration via different responses\n",
    "\n",
    "```{admonition} Question\n",
    "This lab is vulnerable to username enumeration and password brute-force attacks. It has an account with a predictable username and password, which can be found in the following wordlists:\n",
    "\n",
    "Candidate usernames\n",
    "Candidate passwords\n",
    "\n",
    "To solve the lab, enumerate a valid username, brute-force this user's password, then access their account page.\n",
    "```\n",
    "\n",
    "Goal: Enumerate a valid username, brute-force the user's password, and then access the user's account page.\n",
    "\n",
    "You are provided a wordlist of candidate usernames as well as a list of candidate passwords.\n",
    "\n",
    "Here are the steps I took to solve this challenge:\n",
    "\n",
    "1. Load up Burp and start the embedded browser\n",
    "1. Connect to the URL provided and visit the `/login` page\n",
    "1. Attempt to log in with a random username/password\n",
    "1. View the `POST` request in Burp and send it to the intruder\n",
    "1. On the Positions tab, I cleared the `§` from the session cookie, leaving just the username and password positions\n",
    "1. Pasted the values from the list of candidate usernames (100 of them) into the Payload Options (simple list) and started the attack, paying attention to the response payload size.\n",
    "1. After the list ran through, I sorted by response length and noticed that one of them (username: `agenda`) had a different payload length. Looking at the response text, I noticed that it said _\"Incorrect password\"_. \n",
    "1. Returning to the positions page, I changed the username to a static value of `agenda`\n",
    "1. I cleared the payload list and pasted in the values from the candidate password list and then ran the attack\n",
    "1. Watching the response lengths, I again noticed taht one of them (password: `robert`) had a different length. Inspecting the response showed that user had logged in. \n",
    "1. With this information, I then returned to the browser, manually logged in with this information, and completed the challenge"
   ]
  },
  {
   "cell_type": "markdown",
   "metadata": {},
   "source": [
    "---\n",
    "\n",
    "## Username enumeration via subtly different responses\n",
    "\n",
    "```{admonition} Question\n",
    "This lab is subtly vulnerable to username enumeration and password brute-force attacks. It has an account with a predictable username and password, which can be found in the following wordlists:\n",
    "\n",
    "Candidate usernames\n",
    "Candidate passwords\n",
    "\n",
    "To solve the lab, enumerate a valid username, brute-force this user's password, then access their account page.\n",
    "```\n",
    "\n",
    "Working on this challenge made me sharpen my understanding of the _intruder_ tool. I had two lists, and I wanted to run all permutations of them (combined). The mistake I had been making was that I had been failing to change the attack type from the default `Sniper` to the `Cluster Bomb` option. This let me define my two lists, each assigned to one of the two fields/positions, and then start.\n",
    "\n",
    "After just over 10,000 attempts, we found one request that returned a `302` rather than a `200`. Logging in as `at` with a password of `7777777` solved the challenge.\n"
   ]
  },
  {
   "cell_type": "markdown",
   "metadata": {},
   "source": [
    "---\n",
    "\n",
    "## Username enumeration via response timing\n",
    "\n",
    "```{admonition} Question\n",
    "This lab is vulnerable to username enumeration using its response times. To solve the lab, enumerate a valid username, brute-force this user's password, then access their account page.\n",
    "\n",
    "Your credentials: wiener:peter\n",
    "Candidate usernames\n",
    "Candidate passwords\n",
    "```\n",
    "\n",
    "This was an unwelcome response:\n",
    "\n",
    "```{error}\n",
    "You have made too many incorrect login attempts. Please try again in 30 minute(s).\n",
    "```\n",
    "\n",
    "The more accurate statement... I should have read the instructions. You are supposed to do this in two steps: 1. enumerate the username and then 2. brute force that user's password. I tried to just do the cluster bomb approach and that was foolish."
   ]
  },
  {
   "cell_type": "markdown",
   "metadata": {},
   "source": [
    "---\n",
    "\n",
    "## 2FA simple bypass\n",
    "\n",
    "```{admonition} Question\n",
    "This lab's two-factor authentication can be bypassed. You have already obtained a valid username and password, but do not have access to the user's 2FA verification code. To solve the lab, access Carlos's account page.\n",
    "\n",
    "Your credentials: `wiener:peter`\n",
    "Victim's credentials `carlos:montoya`\n",
    "```\n",
    "\n",
    "Given a valid username/password and access to that account's email, as well as a victim username/password, you are asked to bypass the 2FA for the victim's account (you do not have access to their email) and get to their profile page.\n",
    "\n",
    "Walking through the auth flow with a valid user is pretty straight foward. You log in at `/login` and then are directed to `/login2` to enter the 2FA code. Once you get that from your email, you are redirected to `/my-account`.\n",
    "\n",
    "The \"attack\" is as simple as completing the first stage with the victim's credentials and then changing the URL to `/my-account`. This succeeds as there is no session logic to confirm that the 2FA code was entered (only redirection logic)."
   ]
  },
  {
   "cell_type": "markdown",
   "metadata": {},
   "source": [
    "---\n",
    "\n",
    "## Password reset broken logic\n",
    "\n",
    "```{admonition} Question\n",
    "This lab's password reset functionality is vulnerable. To solve the lab, reset Carlos's password then log in and access his \"My account\" page.\n",
    "\n",
    "Your credentials: `wiener:peter`\n",
    "Victim's username: `carlos`\n",
    "```\n",
    "\n",
    "Given a valid set of credentials as well as a victim username, you are asked to reset the victim's password and then log in to view the \"my account\" page.\n",
    "\n",
    "Using the valid credentials, I pretended to have forgotton my password and requested a password reset link. I then completed that process and reviewed the `POST` request to `/forgot-password`. I noticed the payload had not only the reset token and the new password, but also the username. I sent the request to the repeater, changed the `username` to the victim username and re-submitted it. The request completed, so I went to the browser, logged in with the victim username and my newly-set password and was able to view the account page."
   ]
  },
  {
   "cell_type": "markdown",
   "metadata": {},
   "source": []
  }
 ],
 "metadata": {
  "kernelspec": {
   "display_name": "Python 3.10.6 ('venv': venv)",
   "language": "python",
   "name": "python3"
  },
  "language_info": {
   "name": "python",
   "version": "3.10.6"
  },
  "orig_nbformat": 4,
  "vscode": {
   "interpreter": {
    "hash": "8fcf66f6e59375db85f6baa3058ecc2896497378edf6406cdc8f5354216bb4af"
   }
  }
 },
 "nbformat": 4,
 "nbformat_minor": 2
}
