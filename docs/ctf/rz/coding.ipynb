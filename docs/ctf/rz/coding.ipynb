{
 "cells": [
  {
   "cell_type": "markdown",
   "metadata": {},
   "source": [
    "# Coding Challenges"
   ]
  },
  {
   "cell_type": "markdown",
   "metadata": {},
   "source": [
    "## Hash Me Please\n",
    "\n",
    "In this challenge, you are presented with a \"message\" on a web page that you need to encode using `sha512` and post to a URL _within 2 seconds_. Obviously, the primary task (encoding using `sha512`) isn't hard, but doing it within 2 seconds is designed to require that you write some code/script the operation rather than trying to copy/paste it into some online tool, generate the hash, and then post.\n",
    "\n",
    "I spent some time writing up a little python script that I hope will serve me well over a handful of challenges. Essentially, it does the following:\n",
    "\n",
    "- requests the challenge page (https://ringzer0ctf.com/challenges/13)\n",
    "- parses the results and extracts the message text\n",
    "- encodes the text using sha512\n",
    "- issues a `get` request to `https://ringzer0ctf.com/challenges/13/<generated_hash>`\n",
    "- parse the results of that `get()` and extracts the flag\n",
    "\n",
    "I then manually submit the flag and collect my points.\n",
    "\n",
    "```{note}\n",
    "I assumed I needed to do this all while logged in, so I first browsed to the site using FireFox with the developer tools enabled. I collected the `PHPSESSID` cookie and sent it along with all of my `get()` requests.\n",
    "```"
   ]
  },
  {
   "cell_type": "markdown",
   "metadata": {},
   "source": [
    "---\n",
    "\n",
    "## Hash Me Reloaded\n",
    "\n",
    "I initially thought that this challenge was simply a longer variant of _Hash me Please_ designed to *ensure* that you couldn't do it manually. However, that wasn't the case. Further, I take a _little_ issue with the instructions, because following them is __not sufficient__. Besides hashing the message, you need to first figure out (e.g. guess) that you need to convert the binary-string-looking message into ascii characters and *then* calculate the hash. Once you do that, the solution is very similar to the prior variant. \n",
    "\n",
    "My solution for this challenge was to modify the script I created for _Hash Me Please_ alter it as follows:\n",
    "\n",
    "- Once the message had been extracted and stripped (no extraneous whitespace chars), split the string into blocks of 8 digits\n",
    "- convert each digit into an int\n",
    "- map that each int to the ASCII table (`chr()` in python)\n",
    "- assemble the resulting characters into a string\n",
    "- calculate and submit the hash of the resulting string\n",
    "\n",
    "I then manually submit the flag and collect my points."
   ]
  },
  {
   "cell_type": "markdown",
   "metadata": {},
   "source": [
    "---\n",
    "\n",
    "## I Hate Mathematics\n",
    "\n",
    "This problem is fairly straight-forward, especially if you have your script developed for grabbing messages from the server and posting your answers.\n",
    "\n",
    "The math problem is presented in a consistent format and looks something like the following:\n",
    "\n",
    "```\n",
    "292 + 0x2408 - 1111000011011 = ?\n",
    "```\n",
    "\n",
    "Where you have a decimal value plus a hex value and then subtract a binary. All you need to do is split the string into its compoent parts, convert the three \"numbers\" into ints using the proper base (10, 16, 2), perform the math, and submit the answer. This will provide you the flag value which you can then submit for points."
   ]
  },
  {
   "cell_type": "markdown",
   "metadata": {},
   "source": []
  }
 ],
 "metadata": {
  "kernelspec": {
   "display_name": "Python 3.10.6 ('venv': venv)",
   "language": "python",
   "name": "python3"
  },
  "language_info": {
   "name": "python",
   "version": "3.10.6"
  },
  "orig_nbformat": 4,
  "vscode": {
   "interpreter": {
    "hash": "8fcf66f6e59375db85f6baa3058ecc2896497378edf6406cdc8f5354216bb4af"
   }
  }
 },
 "nbformat": 4,
 "nbformat_minor": 2
}
