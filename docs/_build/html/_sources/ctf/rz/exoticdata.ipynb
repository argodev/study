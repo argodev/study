{
 "cells": [
  {
   "cell_type": "markdown",
   "metadata": {},
   "source": [
    "# Exotic Data Storage"
   ]
  },
  {
   "cell_type": "markdown",
   "metadata": {},
   "source": [
    "## File recovery\n",
    "\n",
    "For this challenge, you were presented with a zip archive containing two files: `flag.enc` and `private.pem`. This immediately looked like a simple decryption problem. Looking up my command-line reference, I ran the following commands:\n",
    "\n",
    "```bash\n",
    "$ openssl rsautl -decrypt -in flag.enc -out flag.txt -inkey private.pem\n",
    "$ cat flag.txt\n",
    "```\n",
    "\n",
    "I then submitted the contents of flag.txt and was awarded my one point."
   ]
  },
  {
   "cell_type": "markdown",
   "metadata": {},
   "source": []
  }
 ],
 "metadata": {
  "kernelspec": {
   "display_name": "Python 3.10.6 ('venv': venv)",
   "language": "python",
   "name": "python3"
  },
  "language_info": {
   "name": "python",
   "version": "3.10.6"
  },
  "orig_nbformat": 4,
  "vscode": {
   "interpreter": {
    "hash": "8fcf66f6e59375db85f6baa3058ecc2896497378edf6406cdc8f5354216bb4af"
   }
  }
 },
 "nbformat": 4,
 "nbformat_minor": 2
}
