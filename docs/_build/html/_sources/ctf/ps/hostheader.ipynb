{
 "cells": [
  {
   "cell_type": "markdown",
   "metadata": {},
   "source": [
    "# HTTP Host Header Attacks"
   ]
  },
  {
   "cell_type": "markdown",
   "metadata": {},
   "source": [
    "## Basic Password Reset Poisoning\n",
    "\n",
    "We are told that `carlos` will click any link in any email he receives. The goal is to log in to Carlos's account.\n",
    "\n",
    "We are given a valid set of credentials.\n",
    "\n",
    "Given the title of the challenge, I'm assuming that in the `POST` request to reset my password, there will be a header that can be manipulated or maybe in the password reset link."
   ]
  },
  {
   "cell_type": "markdown",
   "metadata": {},
   "source": []
  }
 ],
 "metadata": {
  "kernelspec": {
   "display_name": "Python 3.10.6 ('venv': venv)",
   "language": "python",
   "name": "python3"
  },
  "language_info": {
   "name": "python",
   "version": "3.10.6"
  },
  "orig_nbformat": 4,
  "vscode": {
   "interpreter": {
    "hash": "8fcf66f6e59375db85f6baa3058ecc2896497378edf6406cdc8f5354216bb4af"
   }
  }
 },
 "nbformat": 4,
 "nbformat_minor": 2
}
