{
 "cells": [
  {
   "cell_type": "markdown",
   "metadata": {},
   "source": [
    "# Access Control Vulnerabilities"
   ]
  },
  {
   "cell_type": "markdown",
   "metadata": {},
   "source": [
    "## Unprotected admin functionality\n",
    "\n",
    "```{admonition} Question\n",
    "This lab has an unprotected admin panel.\n",
    "\n",
    "Solve the lab by deleting the user `carlos`.\n",
    "```\n",
    "\n",
    "This was pretty simple, though it took me a bit to remember that `/robots.txt` can be your friend when looking for \"hidden\" directory paths. Once I remembered this, I navigated to `/administrator-panel` (which was unprotected) and successfully deleted the user."
   ]
  },
  {
   "cell_type": "markdown",
   "metadata": {},
   "source": [
    "---\n",
    "\n",
    "## Unprotected admin functionality with unpredictable URL\n",
    "\n",
    "```{admonition} Question\n",
    "This lab has an unprotected admin panel. It's located at an unpredictable location, but the location is disclosed somewhere in the application.\n",
    "\n",
    "Solve the lab by accessing the admin panel, and using it to delete the user `carlos`.\n",
    "```\n",
    "\n",
    "The normal guesses didn't work, so I started looking through the raw HTML within burpsuite. Eventually, I stumbled across this bit of JavaScript:\n",
    "\n",
    "```javascript\n",
    "var isAdmin = false;\n",
    "if (isAdmin) {\n",
    "   var topLinksTag = document.getElementsByClassName(\"top-links\")[0];\n",
    "   var adminPanelTag = document.createElement('a');\n",
    "   adminPanelTag.setAttribute('href', '/admin-gw0pr8');\n",
    "   adminPanelTag.innerText = 'Admin panel';\n",
    "   topLinksTag.append(adminPanelTag);\n",
    "   var pTag = document.createElement('p');\n",
    "   pTag.innerText = '|';\n",
    "   topLinksTag.appendChild(pTag);\n",
    "}\n",
    "```\n",
    "\n",
    "This made it clear that simply going to `/admin-gw0pr8` was the key and I was able to delete the user."
   ]
  },
  {
   "cell_type": "markdown",
   "metadata": {
    "vscode": {
     "languageId": "javascript"
    }
   },
   "source": [
    "---\n",
    "\n",
    "## User role controlled by request parameter\n",
    "\n",
    "```{admonition} Question\n",
    "This lab has an admin panel at `/admin`, which identifies administrators using a forgeable cookie.\n",
    "\n",
    "Solve the lab by accessing the admin panel and using it to delete the user `carlos`.\n",
    "\n",
    "You can log in to your own account using the following credentials: `wiener:peter`\n",
    "```\n",
    "\n",
    "I first visited the site and logged in with \"my\" credentials and then attempted to visit the `/admin` page. After receiving an error, I looked at the response data in burpsuite. I immediately saw a cookie that looked like the following: `Cookie: Admin=false; session=D8CRqtEqMaPm0lhHMAVEcW452XcJq0Cd`. I sent the request to the \"Repeater\" tool and edited the cookie to say `Admin=true;`. I then used the \"request in browser/original session\" tool, and the page rendered properly and I deleted the user. \n",
    "\n",
    "__UPDATE__ Actually, the above *didn't* solve it. I did successfully get to the admin page, but the request to delete the user was denied because the cookie had been re-written. I probaby could have solved this via a re-write rule, but ended up just editing the `GET` request to `/admin/delete?username=carlos` and submitting it via the repeater tool.\n",
    "\n"
   ]
  },
  {
   "cell_type": "markdown",
   "metadata": {},
   "source": [
    "---\n",
    "\n",
    "## User role can be modified in user profile\n",
    "\n",
    "```{admonition} question\n",
    "This lab has an admin panel at `/admin`. It's only accessible to logged-in users with a `roleid` of `2`.\n",
    "\n",
    "Solve the lab by accessing the admin panel and using it to delete the user `carlos`.\n",
    "\n",
    "You can log in to your own account using the following credentials: `wiener:peter`\n",
    "```\n",
    "\n",
    "I logged in, visited the `/admin` page and received the \"access denied\" error.\n",
    "\n",
    "Went back to the profile page, updated the account email and noticed that the `roleid` param is shown in the response to the `/my-account/change-email` request. I sent this request to the Repeater tool and added my own `roleid` param in the post and re-sent. As expected, it was processed and accepted fine. I was then able to visit `/admin` and delete `carlos`."
   ]
  },
  {
   "cell_type": "markdown",
   "metadata": {},
   "source": [
    "---\n",
    "\n",
    "## User ID controlled by request parameter\n",
    "\n",
    "```{admonition} question\n",
    "This lab has a horizontal privilege escalation vulnerability on the user account page.\n",
    "\n",
    "To solve the lab, obtain the API key for the user `carlos` and submit it as the solution.\n",
    "\n",
    "You can log in to your own account using the following credentials: `wiener:peter`\n",
    "```\n",
    "\n",
    "I logged in to the application and on the `/my-account` page, my API key was shown. I noodled around a bit and failed to see anything like what I expected. Eventually, I navigated back to the home page, and then returned to the `/my-account` page. This time, however, I noticed the URL was a little different... `/my-account?id=wiener`. Of course, the solution looks obvious. I changed it to `/my-account?id=carlos` and was presented with that account's page/key. I submitted that answer and solved the challenge.\n"
   ]
  },
  {
   "cell_type": "markdown",
   "metadata": {},
   "source": [
    "---\n",
    "\n",
    "## User ID controlled by request parameter, with unpredictable user IDs\n",
    "\n",
    "```{admonition} Question\n",
    "This lab has a horizontal privilege escalation vulnerability on the user account page, but identifies users with GUIDs.\n",
    "\n",
    "To solve the lab, find the GUID for carlos, then submit his API key as the solution.\n",
    "\n",
    "You can log in to your own account using the following credentials: `wiener:peter`\n",
    "```\n",
    "\n",
    "The key to this challenge is actually reading the entire block of instructions in the training material. Here it is suggested that user ids may be disclosed in other parts of the application (this I was guessing), such as user reviews and comments (I hadn't thought about this). I noodled around a little and found a post written by carlos. This page contained the following HTML: \n",
    "\n",
    "```html\n",
    "<span id=blog-author><a href='/blogs?userId=091f297d-6894-4e29-97a6-21647b180a44'>carlos</a></span>\n",
    "```\n",
    "\n",
    "From here, the solution was easy."
   ]
  },
  {
   "cell_type": "markdown",
   "metadata": {},
   "source": []
  }
 ],
 "metadata": {
  "kernelspec": {
   "display_name": "Python 3 (ipykernel)",
   "language": "python",
   "name": "python3"
  },
  "language_info": {
   "codemirror_mode": {
    "name": "ipython",
    "version": 3
   },
   "file_extension": ".py",
   "mimetype": "text/x-python",
   "name": "python",
   "nbconvert_exporter": "python",
   "pygments_lexer": "ipython3",
   "version": "3.9.13"
  },
  "vscode": {
   "interpreter": {
    "hash": "e5d901bd8d10d46218975e705a9e09a209b61b793036c302a5ef6447c4d4b056"
   }
  }
 },
 "nbformat": 4,
 "nbformat_minor": 4
}
